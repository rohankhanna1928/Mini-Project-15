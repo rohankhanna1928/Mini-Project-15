{
  "nbformat": 4,
  "nbformat_minor": 0,
  "metadata": {
    "colab": {
      "provenance": [],
      "include_colab_link": true
    },
    "kernelspec": {
      "name": "python3",
      "display_name": "Python 3"
    },
    "language_info": {
      "name": "python"
    }
  },
  "cells": [
    {
      "cell_type": "markdown",
      "metadata": {
        "id": "view-in-github",
        "colab_type": "text"
      },
      "source": [
        "<a href=\"https://colab.research.google.com/github/rohankhanna1928/Mini-Project-15/blob/main/Mini_Project_15.ipynb\" target=\"_parent\"><img src=\"https://colab.research.google.com/assets/colab-badge.svg\" alt=\"Open In Colab\"/></a>"
      ]
    },
    {
      "cell_type": "code",
      "source": [
        "import os\n",
        "from sklearn.feature_extraction.text import TfidfVectorizer\n",
        "from sklearn.metrics.pairwise import cosine_similarity\n",
        "\n",
        "student_files = [doc for doc in os.listdir() if doc.endswith('.txt')]\n",
        "student_notes = [open(_file, encoding='utf-8').read() for _file in student_files]\n",
        "\n",
        "# Function to vectorize the text using TF-IDF\n",
        "def vectorize(Text):\n",
        "    return TfidfVectorizer().fit_transform(Text).toarray()\n",
        "\n",
        "# Function to calculate cosine similarity between two documents\n",
        "def similarity(doc1, doc2):\n",
        "    return cosine_similarity([doc1, doc2])\n",
        "\n",
        "# Vectorize the student notes using TF-IDF\n",
        "vectors = vectorize(student_notes)\n",
        "s_vectors = list(zip(student_files, vectors))\n",
        "plagiarism_results = set()\n",
        "\n",
        "def check_plagiarism():\n",
        "    global s_vectors\n",
        "    for student_a, text_vector_a in s_vectors:\n",
        "        new_vectors = s_vectors.copy()\n",
        "        current_index = new_vectors.index((student_a, text_vector_a))\n",
        "        del new_vectors[current_index]\n",
        "        for student_b, text_vector_b in new_vectors:\n",
        "            sim_score = similarity(text_vector_a, text_vector_b)[0][1]\n",
        "            student_pair = sorted((student_a, student_b))\n",
        "            score = (student_pair[0], student_pair[1], sim_score)\n",
        "            plagiarism_results.add(score)\n",
        "    return plagiarism_results\n",
        "\n",
        "for data in check_plagiarism():\n",
        "    print(\"Similarity data:\\n\", data)"
      ],
      "metadata": {
        "id": "uLm3H2vXyqPQ",
        "colab": {
          "base_uri": "https://localhost:8080/"
        },
        "outputId": "3ec4c891-521a-406d-f9c5-4277f706c6a3"
      },
      "execution_count": null,
      "outputs": [
        {
          "output_type": "stream",
          "name": "stdout",
          "text": [
            "Similarity data:\n",
            " ('Ben.txt', 'Clark.txt', np.float64(0.4454634995096725))\n"
          ]
        }
      ]
    }
  ]
}